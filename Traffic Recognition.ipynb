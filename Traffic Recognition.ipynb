{
 "cells": [
  {
   "cell_type": "code",
   "execution_count": 1,
   "metadata": {
    "ExecuteTime": {
     "end_time": "2020-01-10T15:28:39.837800Z",
     "start_time": "2020-01-10T15:27:48.970222Z"
    }
   },
   "outputs": [
    {
     "name": "stderr",
     "output_type": "stream",
     "text": [
      "Using TensorFlow backend.\n"
     ]
    }
   ],
   "source": [
    "import keras\n",
    "import matplotlib.pyplot as plt\n",
    "import numpy as np"
   ]
  },
  {
   "cell_type": "code",
   "execution_count": 39,
   "metadata": {},
   "outputs": [],
   "source": [
    "import pickle\n",
    "\n",
    "# TODO: Fill this in based on where you saved the training and testing data\n",
    "\n",
    "training_file = 'traffic-signs-data/train.p'\n",
    "validation_file= 'traffic-signs-data/valid.p'\n",
    "testing_file = 'traffic-signs-data/test.p'\n",
    "\n",
    "with open(training_file, mode='rb') as f:\n",
    "    train = pickle.load(f)\n",
    "with open(validation_file, mode='rb') as f:\n",
    "    valid = pickle.load(f)\n",
    "with open(testing_file, mode='rb') as f:\n",
    "    test = pickle.load(f)\n",
    "    \n",
    "X_train, y_train = train['features'], train['labels']\n",
    "X_valid, y_valid = valid['features'], valid['labels']\n",
    "X_test, y_test = test['features'], test['labels']"
   ]
  },
  {
   "cell_type": "code",
   "execution_count": 5,
   "metadata": {},
   "outputs": [],
   "source": [
    "n_classes = len(np.unique(y_train))"
   ]
  },
  {
   "cell_type": "code",
   "execution_count": 6,
   "metadata": {},
   "outputs": [],
   "source": [
    "from keras.layers import Conv2D,Dense,Flatten,MaxPooling2D,BatchNormalization,Dropout , Activation\n",
    "from keras.models import Sequential\n",
    "from keras import regularizers"
   ]
  },
  {
   "cell_type": "code",
   "execution_count": 7,
   "metadata": {},
   "outputs": [],
   "source": [
    "X_train = X_train.astype('float32')/255\n",
    "X_valid = X_valid.astype('float32')/255\n",
    "X_test = X_test.astype('float32')/255"
   ]
  },
  {
   "cell_type": "code",
   "execution_count": 6,
   "metadata": {},
   "outputs": [
    {
     "data": {
      "text/plain": [
       "(32, 32, 3)"
      ]
     },
     "execution_count": 6,
     "metadata": {},
     "output_type": "execute_result"
    }
   ],
   "source": [
    "X_train[1].shape"
   ]
  },
  {
   "cell_type": "code",
   "execution_count": 8,
   "metadata": {},
   "outputs": [],
   "source": [
    "y_train = keras.utils.to_categorical(y_train)\n",
    "y_valid = keras.utils.to_categorical(y_valid)\n",
    "y_test = keras.utils.to_categorical(y_test)"
   ]
  },
  {
   "cell_type": "code",
   "execution_count": 10,
   "metadata": {
    "collapsed": true
   },
   "outputs": [
    {
     "name": "stdout",
     "output_type": "stream",
     "text": [
      "Model: \"sequential_2\"\n",
      "_________________________________________________________________\n",
      "Layer (type)                 Output Shape              Param #   \n",
      "=================================================================\n",
      "conv2d_2 (Conv2D)            (None, 32, 32, 32)        896       \n",
      "_________________________________________________________________\n",
      "activation_1 (Activation)    (None, 32, 32, 32)        0         \n",
      "_________________________________________________________________\n",
      "batch_normalization_1 (Batch (None, 32, 32, 32)        128       \n",
      "_________________________________________________________________\n",
      "conv2d_3 (Conv2D)            (None, 32, 32, 32)        9248      \n",
      "_________________________________________________________________\n",
      "activation_2 (Activation)    (None, 32, 32, 32)        0         \n",
      "_________________________________________________________________\n",
      "batch_normalization_2 (Batch (None, 32, 32, 32)        128       \n",
      "_________________________________________________________________\n",
      "max_pooling2d_1 (MaxPooling2 (None, 16, 16, 32)        0         \n",
      "_________________________________________________________________\n",
      "dropout_1 (Dropout)          (None, 16, 16, 32)        0         \n",
      "_________________________________________________________________\n",
      "conv2d_4 (Conv2D)            (None, 16, 16, 64)        18496     \n",
      "_________________________________________________________________\n",
      "activation_3 (Activation)    (None, 16, 16, 64)        0         \n",
      "_________________________________________________________________\n",
      "batch_normalization_3 (Batch (None, 16, 16, 64)        256       \n",
      "_________________________________________________________________\n",
      "conv2d_5 (Conv2D)            (None, 16, 16, 64)        36928     \n",
      "_________________________________________________________________\n",
      "activation_4 (Activation)    (None, 16, 16, 64)        0         \n",
      "_________________________________________________________________\n",
      "batch_normalization_4 (Batch (None, 16, 16, 64)        256       \n",
      "_________________________________________________________________\n",
      "max_pooling2d_2 (MaxPooling2 (None, 8, 8, 64)          0         \n",
      "_________________________________________________________________\n",
      "dropout_2 (Dropout)          (None, 8, 8, 64)          0         \n",
      "_________________________________________________________________\n",
      "conv2d_6 (Conv2D)            (None, 8, 8, 128)         73856     \n",
      "_________________________________________________________________\n",
      "activation_5 (Activation)    (None, 8, 8, 128)         0         \n",
      "_________________________________________________________________\n",
      "batch_normalization_5 (Batch (None, 8, 8, 128)         512       \n",
      "_________________________________________________________________\n",
      "conv2d_7 (Conv2D)            (None, 8, 8, 128)         147584    \n",
      "_________________________________________________________________\n",
      "activation_6 (Activation)    (None, 8, 8, 128)         0         \n",
      "_________________________________________________________________\n",
      "batch_normalization_6 (Batch (None, 8, 8, 128)         512       \n",
      "_________________________________________________________________\n",
      "max_pooling2d_3 (MaxPooling2 (None, 4, 4, 128)         0         \n",
      "_________________________________________________________________\n",
      "dropout_3 (Dropout)          (None, 4, 4, 128)         0         \n",
      "_________________________________________________________________\n",
      "flatten_1 (Flatten)          (None, 2048)              0         \n",
      "_________________________________________________________________\n",
      "dense_1 (Dense)              (None, 43)                88107     \n",
      "=================================================================\n",
      "Total params: 376,907\n",
      "Trainable params: 376,011\n",
      "Non-trainable params: 896\n",
      "_________________________________________________________________\n"
     ]
    }
   ],
   "source": [
    "# weight_decay = 1e-4\n",
    "model = Sequential()\n",
    "model.add(Conv2D(32, (3,3), padding='same', input_shape=X_train.shape[1:]))\n",
    "model.add(Activation('elu'))\n",
    "model.add(BatchNormalization())\n",
    "\n",
    "model.add(Conv2D(32, (3,3), padding='same',))\n",
    "model.add(Activation('elu'))\n",
    "model.add(BatchNormalization())\n",
    "model.add(MaxPooling2D(pool_size=(2,2)))\n",
    "model.add(Dropout(0.2))\n",
    " \n",
    "model.add(Conv2D(64, (3,3), padding='same'))\n",
    "model.add(Activation('elu'))\n",
    "model.add(BatchNormalization())\n",
    "model.add(Conv2D(64, (3,3), padding='same'))\n",
    "model.add(Activation('elu'))\n",
    "model.add(BatchNormalization())\n",
    "model.add(MaxPooling2D(pool_size=(2,2)))\n",
    "model.add(Dropout(0.3))\n",
    " \n",
    "model.add(Conv2D(128, (3,3), padding='same'))\n",
    "model.add(Activation('elu'))\n",
    "model.add(BatchNormalization())\n",
    "model.add(Conv2D(128, (3,3), padding='same'))\n",
    "model.add(Activation('elu'))\n",
    "model.add(BatchNormalization())\n",
    "model.add(MaxPooling2D(pool_size=(2,2)))\n",
    "model.add(Dropout(0.4))\n",
    " \n",
    "model.add(Flatten())\n",
    "model.add(Dense(n_classes, activation='softmax'))\n",
    "model.summary()"
   ]
  },
  {
   "cell_type": "code",
   "execution_count": 11,
   "metadata": {},
   "outputs": [],
   "source": [
    "model.compile(optimizer='adam',metrics=['accuracy'],loss='categorical_crossentropy')"
   ]
  },
  {
   "cell_type": "code",
   "execution_count": 10,
   "metadata": {
    "scrolled": true
   },
   "outputs": [
    {
     "name": "stdout",
     "output_type": "stream",
     "text": [
      "Train on 34799 samples, validate on 4410 samples\n",
      "Epoch 1/20\n",
      "34799/34799 [==============================] - 22s 636us/step - loss: 1.2317 - accuracy: 0.6700 - val_loss: 1.2901 - val_accuracy: 0.6723\n",
      "Epoch 2/20\n",
      "34799/34799 [==============================] - 19s 545us/step - loss: 0.1734 - accuracy: 0.9447 - val_loss: 0.3587 - val_accuracy: 0.8980\n",
      "Epoch 3/20\n",
      "34799/34799 [==============================] - 19s 546us/step - loss: 0.0776 - accuracy: 0.9744 - val_loss: 0.2122 - val_accuracy: 0.9392\n",
      "Epoch 4/20\n",
      "34799/34799 [==============================] - 19s 546us/step - loss: 0.0492 - accuracy: 0.9842 - val_loss: 0.2076 - val_accuracy: 0.9503\n",
      "Epoch 5/20\n",
      "34799/34799 [==============================] - 19s 547us/step - loss: 0.0320 - accuracy: 0.9900 - val_loss: 0.1932 - val_accuracy: 0.9583\n",
      "Epoch 6/20\n",
      "34799/34799 [==============================] - 19s 546us/step - loss: 0.0254 - accuracy: 0.9916 - val_loss: 0.1786 - val_accuracy: 0.9633\n",
      "Epoch 7/20\n",
      "34799/34799 [==============================] - 19s 547us/step - loss: 0.0211 - accuracy: 0.9936 - val_loss: 0.1670 - val_accuracy: 0.9698\n",
      "Epoch 8/20\n",
      "34799/34799 [==============================] - 20s 565us/step - loss: 0.0179 - accuracy: 0.9941 - val_loss: 0.1385 - val_accuracy: 0.9744\n",
      "Epoch 9/20\n",
      "34799/34799 [==============================] - 19s 548us/step - loss: 0.0180 - accuracy: 0.9943 - val_loss: 0.1821 - val_accuracy: 0.9639\n",
      "Epoch 10/20\n",
      "34799/34799 [==============================] - 19s 548us/step - loss: 0.0231 - accuracy: 0.9928 - val_loss: 0.1793 - val_accuracy: 0.9673\n",
      "Epoch 11/20\n",
      "34799/34799 [==============================] - 19s 547us/step - loss: 0.0194 - accuracy: 0.9933 - val_loss: 0.1719 - val_accuracy: 0.9649\n",
      "Epoch 12/20\n",
      "34799/34799 [==============================] - 19s 548us/step - loss: 0.0194 - accuracy: 0.9939 - val_loss: 0.1708 - val_accuracy: 0.9705\n",
      "Epoch 13/20\n",
      "34799/34799 [==============================] - 19s 549us/step - loss: 0.0115 - accuracy: 0.9957 - val_loss: 0.1638 - val_accuracy: 0.9705\n",
      "Epoch 14/20\n",
      "34799/34799 [==============================] - 19s 548us/step - loss: 0.0168 - accuracy: 0.9951 - val_loss: 0.1298 - val_accuracy: 0.9721\n",
      "Epoch 15/20\n",
      "34799/34799 [==============================] - 23s 647us/step - loss: 0.0181 - accuracy: 0.9942 - val_loss: 0.1776 - val_accuracy: 0.9705\n",
      "Epoch 16/20\n",
      "34799/34799 [==============================] - 26s 744us/step - loss: 0.0135 - accuracy: 0.9957 - val_loss: 0.1608 - val_accuracy: 0.9755\n",
      "Epoch 17/20\n",
      "34799/34799 [==============================] - 26s 744us/step - loss: 0.0196 - accuracy: 0.9943 - val_loss: 0.1037 - val_accuracy: 0.9771\n",
      "Epoch 18/20\n",
      "34799/34799 [==============================] - 26s 744us/step - loss: 0.0116 - accuracy: 0.9961 - val_loss: 0.1312 - val_accuracy: 0.9773\n",
      "Epoch 19/20\n",
      "34799/34799 [==============================] - 26s 743us/step - loss: 0.0130 - accuracy: 0.9958 - val_loss: 0.1157 - val_accuracy: 0.9782\n",
      "Epoch 20/20\n",
      "34799/34799 [==============================] - 26s 743us/step - loss: 0.0112 - accuracy: 0.9969 - val_loss: 0.0663 - val_accuracy: 0.9850\n"
     ]
    },
    {
     "data": {
      "text/plain": [
       "<keras.callbacks.callbacks.History at 0x29932c88f60>"
      ]
     },
     "execution_count": 10,
     "metadata": {},
     "output_type": "execute_result"
    }
   ],
   "source": [
    "model.fit(X_train,y_train,batch_size=128,epochs=20,validation_data=(X_valid,y_valid))"
   ]
  },
  {
   "cell_type": "code",
   "execution_count": 12,
   "metadata": {},
   "outputs": [],
   "source": [
    "model.load_weights('traffic_weight.h5')"
   ]
  },
  {
   "cell_type": "code",
   "execution_count": 13,
   "metadata": {},
   "outputs": [
    {
     "name": "stdout",
     "output_type": "stream",
     "text": [
      "12630/12630 [==============================] - 6s 483us/step\n"
     ]
    },
    {
     "data": {
      "text/plain": [
       "[0.1550357631302506, 0.9771179556846619]"
      ]
     },
     "execution_count": 13,
     "metadata": {},
     "output_type": "execute_result"
    }
   ],
   "source": [
    "model.evaluate(X_test,y_test)"
   ]
  },
  {
   "cell_type": "code",
   "execution_count": 14,
   "metadata": {},
   "outputs": [],
   "source": [
    "import cv2"
   ]
  },
  {
   "cell_type": "code",
   "execution_count": 62,
   "metadata": {},
   "outputs": [],
   "source": [
    "stop = cv2.imread('download.jfif')"
   ]
  },
  {
   "cell_type": "code",
   "execution_count": 63,
   "metadata": {},
   "outputs": [
    {
     "data": {
      "text/plain": [
       "(183, 275, 3)"
      ]
     },
     "execution_count": 63,
     "metadata": {},
     "output_type": "execute_result"
    }
   ],
   "source": [
    "stop.shape"
   ]
  },
  {
   "cell_type": "code",
   "execution_count": 64,
   "metadata": {},
   "outputs": [],
   "source": [
    "stop=cv2.resize(stop,(32,32))"
   ]
  },
  {
   "cell_type": "code",
   "execution_count": 65,
   "metadata": {},
   "outputs": [],
   "source": [
    "stop = stop/255"
   ]
  },
  {
   "cell_type": "code",
   "execution_count": 66,
   "metadata": {},
   "outputs": [],
   "source": [
    "stop=np.expand_dims(stop,axis=0)"
   ]
  },
  {
   "cell_type": "code",
   "execution_count": 67,
   "metadata": {},
   "outputs": [
    {
     "data": {
      "text/plain": [
       "(1, 32, 32, 3)"
      ]
     },
     "execution_count": 67,
     "metadata": {},
     "output_type": "execute_result"
    }
   ],
   "source": [
    "stop.shape"
   ]
  },
  {
   "cell_type": "code",
   "execution_count": 32,
   "metadata": {},
   "outputs": [],
   "source": [
    "model.predict(X_test)"
   ]
  },
  {
   "cell_type": "code",
   "execution_count": 31,
   "metadata": {},
   "outputs": [
    {
     "data": {
      "text/plain": [
       "16"
      ]
     },
     "execution_count": 31,
     "metadata": {},
     "output_type": "execute_result"
    }
   ],
   "source": [
    "pred_class=[]\n",
    "for i in l:\n",
    "    "
   ]
  },
  {
   "cell_type": "code",
   "execution_count": null,
   "metadata": {},
   "outputs": [],
   "source": []
  },
  {
   "cell_type": "code",
   "execution_count": 8,
   "metadata": {
    "scrolled": true
   },
   "outputs": [
    {
     "name": "stdout",
     "output_type": "stream",
     "text": [
      "Model: \"sequential_1\"\n",
      "_________________________________________________________________\n",
      "Layer (type)                 Output Shape              Param #   \n",
      "=================================================================\n",
      "conv2d_1 (Conv2D)            (None, 32, 32, 32)        896       \n",
      "_________________________________________________________________\n",
      "activation_1 (Activation)    (None, 32, 32, 32)        0         \n",
      "_________________________________________________________________\n",
      "batch_normalization_1 (Batch (None, 32, 32, 32)        128       \n",
      "_________________________________________________________________\n",
      "conv2d_2 (Conv2D)            (None, 32, 32, 32)        9248      \n",
      "_________________________________________________________________\n",
      "activation_2 (Activation)    (None, 32, 32, 32)        0         \n",
      "_________________________________________________________________\n",
      "batch_normalization_2 (Batch (None, 32, 32, 32)        128       \n",
      "_________________________________________________________________\n",
      "max_pooling2d_1 (MaxPooling2 (None, 16, 16, 32)        0         \n",
      "_________________________________________________________________\n",
      "dropout_1 (Dropout)          (None, 16, 16, 32)        0         \n",
      "_________________________________________________________________\n",
      "conv2d_3 (Conv2D)            (None, 16, 16, 64)        18496     \n",
      "_________________________________________________________________\n",
      "activation_3 (Activation)    (None, 16, 16, 64)        0         \n",
      "_________________________________________________________________\n",
      "batch_normalization_3 (Batch (None, 16, 16, 64)        256       \n",
      "_________________________________________________________________\n",
      "conv2d_4 (Conv2D)            (None, 16, 16, 64)        36928     \n",
      "_________________________________________________________________\n",
      "activation_4 (Activation)    (None, 16, 16, 64)        0         \n",
      "_________________________________________________________________\n",
      "batch_normalization_4 (Batch (None, 16, 16, 64)        256       \n",
      "_________________________________________________________________\n",
      "max_pooling2d_2 (MaxPooling2 (None, 8, 8, 64)          0         \n",
      "_________________________________________________________________\n",
      "dropout_2 (Dropout)          (None, 8, 8, 64)          0         \n",
      "_________________________________________________________________\n",
      "conv2d_5 (Conv2D)            (None, 8, 8, 128)         73856     \n",
      "_________________________________________________________________\n",
      "activation_5 (Activation)    (None, 8, 8, 128)         0         \n",
      "_________________________________________________________________\n",
      "batch_normalization_5 (Batch (None, 8, 8, 128)         512       \n",
      "_________________________________________________________________\n",
      "conv2d_6 (Conv2D)            (None, 8, 8, 128)         147584    \n",
      "_________________________________________________________________\n",
      "activation_6 (Activation)    (None, 8, 8, 128)         0         \n",
      "_________________________________________________________________\n",
      "batch_normalization_6 (Batch (None, 8, 8, 128)         512       \n",
      "_________________________________________________________________\n",
      "max_pooling2d_3 (MaxPooling2 (None, 4, 4, 128)         0         \n",
      "_________________________________________________________________\n",
      "dropout_3 (Dropout)          (None, 4, 4, 128)         0         \n",
      "_________________________________________________________________\n",
      "flatten_1 (Flatten)          (None, 2048)              0         \n",
      "_________________________________________________________________\n",
      "dense_1 (Dense)              (None, 43)                88107     \n",
      "=================================================================\n",
      "Total params: 376,907\n",
      "Trainable params: 376,011\n",
      "Non-trainable params: 896\n",
      "_________________________________________________________________\n"
     ]
    }
   ],
   "source": [
    "# weight_decay = 1e-4\n",
    "model1 = Sequential()\n",
    "model1.add(Conv2D(32, (3,3), padding='same', input_shape=X_train.shape[1:],kernel_regularizer=regularizers.l2()))\n",
    "model1.add(Activation('elu'))\n",
    "model1.add(BatchNormalization())\n",
    "\n",
    "model1.add(Conv2D(32, (3,3), padding='same',kernel_regularizer=regularizers.l2()))\n",
    "model1.add(Activation('elu'))\n",
    "model1.add(BatchNormalization())\n",
    "model1.add(MaxPooling2D(pool_size=(2,2)))\n",
    "model1.add(Dropout(0.2))\n",
    " \n",
    "model1.add(Conv2D(64, (3,3), padding='same',kernel_regularizer=regularizers.l2()))\n",
    "model1.add(Activation('elu'))\n",
    "model1.add(BatchNormalization())\n",
    "model1.add(Conv2D(64, (3,3), padding='same',kernel_regularizer=regularizers.l2()))\n",
    "model1.add(Activation('elu'))\n",
    "model1.add(BatchNormalization())\n",
    "model1.add(MaxPooling2D(pool_size=(2,2)))\n",
    "model1.add(Dropout(0.3))\n",
    " \n",
    "model1.add(Conv2D(128, (3,3), padding='same',kernel_regularizer=regularizers.l2()))\n",
    "model1.add(Activation('elu'))\n",
    "model1.add(BatchNormalization())\n",
    "model1.add(Conv2D(128, (3,3), padding='same',kernel_regularizer=regularizers.l2()))\n",
    "model1.add(Activation('elu'))\n",
    "model1.add(BatchNormalization())\n",
    "model1.add(MaxPooling2D(pool_size=(2,2)))\n",
    "model1.add(Dropout(0.4))\n",
    " \n",
    "model1.add(Flatten())\n",
    "model1.add(Dense(n_classes, activation='softmax'))\n",
    "model1.summary()"
   ]
  },
  {
   "cell_type": "code",
   "execution_count": 9,
   "metadata": {},
   "outputs": [],
   "source": [
    "model1.compile(loss='categorical_crossentropy',metrics=['accuracy'],optimizer='adam')"
   ]
  },
  {
   "cell_type": "code",
   "execution_count": 10,
   "metadata": {
    "collapsed": true
   },
   "outputs": [
    {
     "name": "stdout",
     "output_type": "stream",
     "text": [
      "Train on 34799 samples, validate on 4410 samples\n",
      "Epoch 1/20\n",
      "34799/34799 [==============================] - 31s 882us/step - loss: 3.8876 - accuracy: 0.6816 - val_loss: 3.4176 - val_accuracy: 0.5698\n",
      "Epoch 2/20\n",
      "34799/34799 [==============================] - 26s 748us/step - loss: 1.2868 - accuracy: 0.9438 - val_loss: 1.1282 - val_accuracy: 0.9014\n",
      "Epoch 3/20\n",
      "34799/34799 [==============================] - 25s 714us/step - loss: 0.6599 - accuracy: 0.9570 - val_loss: 0.6933 - val_accuracy: 0.9404\n",
      "Epoch 4/20\n",
      "34799/34799 [==============================] - 19s 553us/step - loss: 0.4636 - accuracy: 0.9681 - val_loss: 0.6067 - val_accuracy: 0.9211\n",
      "Epoch 5/20\n",
      "34799/34799 [==============================] - 19s 553us/step - loss: 0.4276 - accuracy: 0.9673 - val_loss: 0.4946 - val_accuracy: 0.9531\n",
      "Epoch 6/20\n",
      "34799/34799 [==============================] - 19s 553us/step - loss: 0.4180 - accuracy: 0.9684 - val_loss: 0.6151 - val_accuracy: 0.9340\n",
      "Epoch 7/20\n",
      "34799/34799 [==============================] - 19s 554us/step - loss: 0.4208 - accuracy: 0.9705 - val_loss: 0.4552 - val_accuracy: 0.9537\n",
      "Epoch 8/20\n",
      "34799/34799 [==============================] - 19s 554us/step - loss: 0.3966 - accuracy: 0.9715 - val_loss: 0.4692 - val_accuracy: 0.9546\n",
      "Epoch 9/20\n",
      "34799/34799 [==============================] - 19s 554us/step - loss: 0.4061 - accuracy: 0.9713 - val_loss: 0.6835 - val_accuracy: 0.9288\n",
      "Epoch 10/20\n",
      "34799/34799 [==============================] - 19s 553us/step - loss: 0.4053 - accuracy: 0.9739 - val_loss: 0.5691 - val_accuracy: 0.9308\n",
      "Epoch 11/20\n",
      "34799/34799 [==============================] - 19s 553us/step - loss: 0.3956 - accuracy: 0.9744 - val_loss: 0.5003 - val_accuracy: 0.9528\n",
      "Epoch 12/20\n",
      "34799/34799 [==============================] - 19s 554us/step - loss: 0.4125 - accuracy: 0.9732 - val_loss: 0.5326 - val_accuracy: 0.9406\n",
      "Epoch 13/20\n",
      "34799/34799 [==============================] - 19s 555us/step - loss: 0.4016 - accuracy: 0.9733 - val_loss: 0.5310 - val_accuracy: 0.9501\n",
      "Epoch 14/20\n",
      "34799/34799 [==============================] - 19s 555us/step - loss: 0.3823 - accuracy: 0.9755 - val_loss: 0.5529 - val_accuracy: 0.9467\n",
      "Epoch 15/20\n",
      "34799/34799 [==============================] - 19s 555us/step - loss: 0.3688 - accuracy: 0.9774 - val_loss: 0.5873 - val_accuracy: 0.9290\n",
      "Epoch 16/20\n",
      "34799/34799 [==============================] - 19s 555us/step - loss: 0.3646 - accuracy: 0.9766 - val_loss: 0.5169 - val_accuracy: 0.9558\n",
      "Epoch 17/20\n",
      "34799/34799 [==============================] - 20s 572us/step - loss: 0.3384 - accuracy: 0.9787 - val_loss: 0.5458 - val_accuracy: 0.9399\n",
      "Epoch 18/20\n",
      "34799/34799 [==============================] - 19s 555us/step - loss: 0.3462 - accuracy: 0.9782 - val_loss: 0.4315 - val_accuracy: 0.9551\n",
      "Epoch 19/20\n",
      "34799/34799 [==============================] - 20s 574us/step - loss: 0.3361 - accuracy: 0.9789 - val_loss: 0.3912 - val_accuracy: 0.9592\n",
      "Epoch 20/20\n",
      "34799/34799 [==============================] - 19s 557us/step - loss: 0.3203 - accuracy: 0.9801 - val_loss: 0.3448 - val_accuracy: 0.9705\n"
     ]
    },
    {
     "data": {
      "text/plain": [
       "<keras.callbacks.callbacks.History at 0x1b03302cf98>"
      ]
     },
     "execution_count": 10,
     "metadata": {},
     "output_type": "execute_result"
    }
   ],
   "source": [
    "model1.fit(X_train,y_train,batch_size=128,epochs=20,validation_data=(X_valid,y_valid))"
   ]
  },
  {
   "cell_type": "code",
   "execution_count": 11,
   "metadata": {},
   "outputs": [
    {
     "name": "stdout",
     "output_type": "stream",
     "text": [
      "12630/12630 [==============================] - 3s 249us/step\n"
     ]
    },
    {
     "data": {
      "text/plain": [
       "[0.40738468655309124, 0.9558194875717163]"
      ]
     },
     "execution_count": 11,
     "metadata": {},
     "output_type": "execute_result"
    }
   ],
   "source": [
    "model1.evaluate(X_test,y_test)"
   ]
  },
  {
   "cell_type": "code",
   "execution_count": 13,
   "metadata": {},
   "outputs": [],
   "source": [
    "def z_score(x_train,x_test,x_valid):    \n",
    "    mean = np.mean(x_train,axis=(0,1,2,3))\n",
    "    std = np.std(x_train,axis=(0,1,2,3))\n",
    "    x_train = (x_train-mean)/(std+1e-7)\n",
    "    x_test = (x_test-mean)/(std+1e-7)\n",
    "    x_valid = (x_valid - mean)/ (std + 1e-7)\n",
    "    return x_train,x_test,x_valid\n"
   ]
  },
  {
   "cell_type": "code",
   "execution_count": 17,
   "metadata": {},
   "outputs": [],
   "source": [
    "z_x_train , z_x_test, z_x_valid = z_score(X_train,X_test,X_valid)"
   ]
  },
  {
   "cell_type": "code",
   "execution_count": 18,
   "metadata": {
    "collapsed": true
   },
   "outputs": [
    {
     "name": "stdout",
     "output_type": "stream",
     "text": [
      "Model: \"sequential_2\"\n",
      "_________________________________________________________________\n",
      "Layer (type)                 Output Shape              Param #   \n",
      "=================================================================\n",
      "conv2d_7 (Conv2D)            (None, 32, 32, 32)        896       \n",
      "_________________________________________________________________\n",
      "activation_7 (Activation)    (None, 32, 32, 32)        0         \n",
      "_________________________________________________________________\n",
      "batch_normalization_7 (Batch (None, 32, 32, 32)        128       \n",
      "_________________________________________________________________\n",
      "conv2d_8 (Conv2D)            (None, 32, 32, 32)        9248      \n",
      "_________________________________________________________________\n",
      "activation_8 (Activation)    (None, 32, 32, 32)        0         \n",
      "_________________________________________________________________\n",
      "batch_normalization_8 (Batch (None, 32, 32, 32)        128       \n",
      "_________________________________________________________________\n",
      "max_pooling2d_4 (MaxPooling2 (None, 16, 16, 32)        0         \n",
      "_________________________________________________________________\n",
      "dropout_4 (Dropout)          (None, 16, 16, 32)        0         \n",
      "_________________________________________________________________\n",
      "conv2d_9 (Conv2D)            (None, 16, 16, 64)        18496     \n",
      "_________________________________________________________________\n",
      "activation_9 (Activation)    (None, 16, 16, 64)        0         \n",
      "_________________________________________________________________\n",
      "batch_normalization_9 (Batch (None, 16, 16, 64)        256       \n",
      "_________________________________________________________________\n",
      "conv2d_10 (Conv2D)           (None, 16, 16, 64)        36928     \n",
      "_________________________________________________________________\n",
      "activation_10 (Activation)   (None, 16, 16, 64)        0         \n",
      "_________________________________________________________________\n",
      "batch_normalization_10 (Batc (None, 16, 16, 64)        256       \n",
      "_________________________________________________________________\n",
      "max_pooling2d_5 (MaxPooling2 (None, 8, 8, 64)          0         \n",
      "_________________________________________________________________\n",
      "dropout_5 (Dropout)          (None, 8, 8, 64)          0         \n",
      "_________________________________________________________________\n",
      "conv2d_11 (Conv2D)           (None, 8, 8, 128)         73856     \n",
      "_________________________________________________________________\n",
      "activation_11 (Activation)   (None, 8, 8, 128)         0         \n",
      "_________________________________________________________________\n",
      "batch_normalization_11 (Batc (None, 8, 8, 128)         512       \n",
      "_________________________________________________________________\n",
      "conv2d_12 (Conv2D)           (None, 8, 8, 128)         147584    \n",
      "_________________________________________________________________\n",
      "activation_12 (Activation)   (None, 8, 8, 128)         0         \n",
      "_________________________________________________________________\n",
      "batch_normalization_12 (Batc (None, 8, 8, 128)         512       \n",
      "_________________________________________________________________\n",
      "max_pooling2d_6 (MaxPooling2 (None, 4, 4, 128)         0         \n",
      "_________________________________________________________________\n",
      "dropout_6 (Dropout)          (None, 4, 4, 128)         0         \n",
      "_________________________________________________________________\n",
      "flatten_2 (Flatten)          (None, 2048)              0         \n",
      "_________________________________________________________________\n",
      "dense_2 (Dense)              (None, 43)                88107     \n",
      "=================================================================\n",
      "Total params: 376,907\n",
      "Trainable params: 376,011\n",
      "Non-trainable params: 896\n",
      "_________________________________________________________________\n"
     ]
    }
   ],
   "source": [
    "# weight_decay = 1e-4\n",
    "model2 = Sequential()\n",
    "model2.add(Conv2D(32, (3,3), padding='same', input_shape=X_train.shape[1:],kernel_regularizer=regularizers.l2()))\n",
    "model2.add(Activation('elu'))\n",
    "model2.add(BatchNormalization())\n",
    "\n",
    "model2.add(Conv2D(32, (3,3), padding='same',kernel_regularizer=regularizers.l2()))\n",
    "model2.add(Activation('elu'))\n",
    "model2.add(BatchNormalization())\n",
    "model2.add(MaxPooling2D(pool_size=(2,2)))\n",
    "model2.add(Dropout(0.2))\n",
    " \n",
    "model2.add(Conv2D(64, (3,3), padding='same',kernel_regularizer=regularizers.l2()))\n",
    "model2.add(Activation('elu'))\n",
    "model2.add(BatchNormalization())\n",
    "model2.add(Conv2D(64, (3,3), padding='same',kernel_regularizer=regularizers.l2()))\n",
    "model2.add(Activation('elu'))\n",
    "model2.add(BatchNormalization())\n",
    "model2.add(MaxPooling2D(pool_size=(2,2)))\n",
    "model2.add(Dropout(0.3))\n",
    " \n",
    "model2.add(Conv2D(128, (3,3), padding='same',kernel_regularizer=regularizers.l2()))\n",
    "model2.add(Activation('elu'))\n",
    "model2.add(BatchNormalization())\n",
    "model2.add(Conv2D(128, (3,3), padding='same',kernel_regularizer=regularizers.l2()))\n",
    "model2.add(Activation('elu'))\n",
    "model2.add(BatchNormalization())\n",
    "model2.add(MaxPooling2D(pool_size=(2,2)))\n",
    "model2.add(Dropout(0.4))\n",
    " \n",
    "model2.add(Flatten())\n",
    "model2.add(Dense(n_classes, activation='softmax'))\n",
    "model2.summary()"
   ]
  },
  {
   "cell_type": "code",
   "execution_count": 19,
   "metadata": {},
   "outputs": [],
   "source": [
    "model2.compile(optimizer='adam',loss='categorical_crossentropy',metrics=['accuracy'])"
   ]
  },
  {
   "cell_type": "code",
   "execution_count": 20,
   "metadata": {
    "collapsed": true
   },
   "outputs": [
    {
     "name": "stdout",
     "output_type": "stream",
     "text": [
      "Train on 34799 samples, validate on 4410 samples\n",
      "Epoch 1/20\n",
      "34799/34799 [==============================] - 20s 587us/step - loss: 3.8273 - accuracy: 0.7001 - val_loss: 2.4593 - val_accuracy: 0.8159\n",
      "Epoch 2/20\n",
      "34799/34799 [==============================] - 19s 553us/step - loss: 1.2956 - accuracy: 0.9454 - val_loss: 1.0563 - val_accuracy: 0.9059\n",
      "Epoch 3/20\n",
      "34799/34799 [==============================] - 19s 553us/step - loss: 0.6577 - accuracy: 0.9608 - val_loss: 0.7140 - val_accuracy: 0.9188\n",
      "Epoch 4/20\n",
      "34799/34799 [==============================] - 19s 553us/step - loss: 0.4759 - accuracy: 0.9672 - val_loss: 0.5789 - val_accuracy: 0.9438\n",
      "Epoch 5/20\n",
      "34799/34799 [==============================] - 19s 555us/step - loss: 0.4304 - accuracy: 0.9690 - val_loss: 0.4709 - val_accuracy: 0.9599\n",
      "Epoch 6/20\n",
      "34799/34799 [==============================] - 19s 554us/step - loss: 0.4158 - accuracy: 0.9709 - val_loss: 0.5069 - val_accuracy: 0.9415\n",
      "Epoch 7/20\n",
      "34799/34799 [==============================] - 19s 554us/step - loss: 0.4076 - accuracy: 0.9713 - val_loss: 0.4770 - val_accuracy: 0.9658\n",
      "Epoch 8/20\n",
      "34799/34799 [==============================] - 19s 555us/step - loss: 0.4121 - accuracy: 0.9708 - val_loss: 0.6265 - val_accuracy: 0.9467\n",
      "Epoch 9/20\n",
      "34799/34799 [==============================] - 19s 556us/step - loss: 0.3868 - accuracy: 0.9748 - val_loss: 0.5549 - val_accuracy: 0.9426\n",
      "Epoch 10/20\n",
      "34799/34799 [==============================] - 19s 555us/step - loss: 0.4101 - accuracy: 0.9724 - val_loss: 0.6449 - val_accuracy: 0.9224\n",
      "Epoch 11/20\n",
      "34799/34799 [==============================] - 19s 556us/step - loss: 0.4035 - accuracy: 0.9753 - val_loss: 0.4824 - val_accuracy: 0.9499\n",
      "Epoch 12/20\n",
      "34799/34799 [==============================] - 20s 572us/step - loss: 0.3907 - accuracy: 0.9741 - val_loss: 0.5600 - val_accuracy: 0.9467\n",
      "Epoch 13/20\n",
      "34799/34799 [==============================] - 19s 558us/step - loss: 0.3851 - accuracy: 0.9770 - val_loss: 0.5140 - val_accuracy: 0.9565\n",
      "Epoch 14/20\n",
      "34799/34799 [==============================] - 19s 558us/step - loss: 0.3710 - accuracy: 0.9781 - val_loss: 0.4282 - val_accuracy: 0.9671\n",
      "Epoch 15/20\n",
      "34799/34799 [==============================] - 20s 589us/step - loss: 0.3767 - accuracy: 0.9762 - val_loss: 0.4722 - val_accuracy: 0.9524\n",
      "Epoch 16/20\n",
      "34799/34799 [==============================] - 19s 559us/step - loss: 0.3569 - accuracy: 0.9785 - val_loss: 0.5347 - val_accuracy: 0.9385\n",
      "Epoch 17/20\n",
      "34799/34799 [==============================] - 20s 561us/step - loss: 0.3540 - accuracy: 0.9778 - val_loss: 0.4725 - val_accuracy: 0.9417\n",
      "Epoch 18/20\n",
      "34799/34799 [==============================] - 20s 562us/step - loss: 0.3576 - accuracy: 0.9773 - val_loss: 0.4053 - val_accuracy: 0.9605\n",
      "Epoch 19/20\n",
      "34799/34799 [==============================] - 20s 564us/step - loss: 0.3287 - accuracy: 0.9790 - val_loss: 0.4676 - val_accuracy: 0.9574\n",
      "Epoch 20/20\n",
      "34799/34799 [==============================] - 20s 565us/step - loss: 0.3143 - accuracy: 0.9821 - val_loss: 0.4465 - val_accuracy: 0.9424\n"
     ]
    },
    {
     "data": {
      "text/plain": [
       "<keras.callbacks.callbacks.History at 0x1b066cecf60>"
      ]
     },
     "execution_count": 20,
     "metadata": {},
     "output_type": "execute_result"
    }
   ],
   "source": [
    "model2.fit(z_x_train,y_train,batch_size=128,epochs=20,validation_data=(z_x_valid,y_valid))"
   ]
  },
  {
   "cell_type": "code",
   "execution_count": 21,
   "metadata": {},
   "outputs": [
    {
     "name": "stdout",
     "output_type": "stream",
     "text": [
      "12630/12630 [==============================] - 3s 235us/step\n"
     ]
    },
    {
     "data": {
      "text/plain": [
       "[0.5305569983057247, 0.9355502724647522]"
      ]
     },
     "execution_count": 21,
     "metadata": {},
     "output_type": "execute_result"
    }
   ],
   "source": [
    "model2.evaluate(z_x_test,y_test)"
   ]
  },
  {
   "cell_type": "code",
   "execution_count": 68,
   "metadata": {},
   "outputs": [],
   "source": [
    "X=model.predict(stop)"
   ]
  },
  {
   "cell_type": "code",
   "execution_count": 69,
   "metadata": {},
   "outputs": [
    {
     "data": {
      "text/plain": [
       "38"
      ]
     },
     "execution_count": 69,
     "metadata": {},
     "output_type": "execute_result"
    }
   ],
   "source": [
    "np.argmax(X)"
   ]
  },
  {
   "cell_type": "code",
   "execution_count": 70,
   "metadata": {},
   "outputs": [
    {
     "data": {
      "image/png": "[encoded data removed]",
      "text/plain": [
       "<Figure size 432x288 with 1 Axes>"
      ]
     },
     "metadata": {
      "needs_background": "light"
     },
     "output_type": "display_data"
    }
   ],
   "source": [
    "for i in range(len(y_train)):\n",
    "    if y_train[i] == 14:\n",
    "        plt.imshow(X_train[i])\n",
    "        "
   ]
  },
  {
   "cell_type": "code",
   "execution_count": 47,
   "metadata": {},
   "outputs": [
    {
     "data": {
      "text/plain": [
       "<matplotlib.image.AxesImage at 0x27832e53f60>"
      ]
     },
     "execution_count": 47,
     "metadata": {},
     "output_type": "execute_result"
    },
    {
     "data": {
      "image/png": "[encoded data removed]",
      "text/plain": [
       "<Figure size 432x288 with 1 Axes>"
      ]
     },
     "metadata": {
      "needs_background": "light"
     },
     "output_type": "display_data"
    }
   ],
   "source": [
    "plt.imshow(X_train[1])"
   ]
  },
  {
   "cell_type": "code",
   "execution_count": null,
   "metadata": {},
   "outputs": [],
   "source": []
  }
 ],
 "metadata": {
  "kernelspec": {
   "display_name": "Python 3",
   "language": "python",
   "name": "python3"
  },
  "language_info": {
   "codemirror_mode": {
    "name": "ipython",
    "version": 3
   },
   "file_extension": ".py",
   "mimetype": "text/x-python",
   "name": "python",
   "nbconvert_exporter": "python",
   "pygments_lexer": "ipython3",
   "version": "3.6.8"
  },
  "toc": {
   "base_numbering": 1,
   "nav_menu": {},
   "number_sections": true,
   "sideBar": true,
   "skip_h1_title": false,
   "title_cell": "Table of Contents",
   "title_sidebar": "Contents",
   "toc_cell": false,
   "toc_position": {},
   "toc_section_display": true,
   "toc_window_display": false
  }
 },
 "nbformat": 4,
 "nbformat_minor": 2
}
